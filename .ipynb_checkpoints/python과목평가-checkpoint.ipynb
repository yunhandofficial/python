{
 "cells": [
  {
   "cell_type": "code",
   "execution_count": 1,
   "metadata": {},
   "outputs": [],
   "source": [
    "#시험 몰랐던거"
   ]
  },
  {
   "cell_type": "code",
   "execution_count": null,
   "metadata": {},
   "outputs": [],
   "source": [
    " 함수에 대한 설명으로 옳지 않은것\n",
    "    인자(parameter)는 설정값, 인수(argument)는 호출시 넘겨주는값\n",
    "    함수는 오직 하나의 객체만 반환\n",
    "    #틀림# 함수에서 return을 작성하지 않으면 코드실행시 오류\n",
    "    같은이름 함수 선언하면 나중에 선언한거가 실행"
   ]
  },
  {
   "cell_type": "code",
   "execution_count": 2,
   "metadata": {},
   "outputs": [
    {
     "name": "stdout",
     "output_type": "stream",
     "text": [
      "{'d': {}}\n",
      "{'d': {}}\n"
     ]
    }
   ],
   "source": [
    "d1={'d':dict()}\n",
    "d2 = dict(d={})\n",
    "print(d1)\n",
    "print(d2)\n",
    "#d1과 d2의 아이디값은 다르다.\n",
    "#d1==d2\n",
    "#각각의 길이는 같음"
   ]
  },
  {
   "cell_type": "code",
   "execution_count": 3,
   "metadata": {},
   "outputs": [
    {
     "name": "stdout",
     "output_type": "stream",
     "text": [
      "{'사과': None}\n"
     ]
    }
   ],
   "source": [
    "fruits={'apple':'사과', 'banana':'바나나'}\n",
    "a= fruits.get('apple')\n",
    "b= fruits.get('cherry')\n",
    "c= fruits.get('melon',True)\n",
    "d= {a:b}\n",
    "\n",
    "if c:\n",
    "    print(d)\n",
    "    \n",
    "#에러가 나지 않는다\\\n",
    "#b는 None을 반환\n",
    "#실행하면 무언가 출력된다.\n",
    "#d는 {'apple':'cherry'}\n",
    "\n",
    "#답은 b는None이다."
   ]
  },
  {
   "cell_type": "code",
   "execution_count": 4,
   "metadata": {},
   "outputs": [
    {
     "name": "stdout",
     "output_type": "stream",
     "text": [
      "421\n"
     ]
    }
   ],
   "source": [
    "#===================================================\n",
    "#매우어려웠다\n",
    "#===================================================\n",
    "def func(c='5', *args):\n",
    "    a, c, b =args\n",
    "    return a+b+c\n",
    "\n",
    "print(func('3','4','1','2'))\n",
    "\n",
    "#c='5'는 기본값..!\n",
    "#c='3'들어감\n",
    "#args=('4','1','2')"
   ]
  },
  {
   "cell_type": "code",
   "execution_count": 6,
   "metadata": {},
   "outputs": [
    {
     "name": "stdout",
     "output_type": "stream",
     "text": [
      "hong\n"
     ]
    }
   ],
   "source": [
    "#전역변수\n",
    "name= 'hong'\n",
    "\n",
    "class Person:\n",
    "    name='choi'\n",
    "    #여기에서는 cls라고 안했기때문에 접근불가\n",
    "    def greeting(self):\n",
    "        #그냥 name이라고 했기떄문에 변수 name을 찾는다.\n",
    "        # self.name이라는 식으로 변수를 줬으면 지정 가능했을것\n",
    "        print(name)\n",
    "        \n",
    "p1 = Person()\n",
    "#인스턴스에서 'kim'으로 저장\n",
    "p1.name='kim'\n",
    "p1.greeting()"
   ]
  },
  {
   "cell_type": "code",
   "execution_count": 8,
   "metadata": {},
   "outputs": [
    {
     "data": {
      "text/plain": [
       "True"
      ]
     },
     "execution_count": 8,
     "metadata": {},
     "output_type": "execute_result"
    }
   ],
   "source": [
    "isinstance(3, int)"
   ]
  },
  {
   "cell_type": "code",
   "execution_count": null,
   "metadata": {},
   "outputs": [],
   "source": [
    "class Person:\n",
    "    def __init__(self, name, age):\n",
    "        self.name=name\n",
    "        \n",
    "#인스턴스 만들때 옳은것은?\n",
    "#이게 맞음!~!~!\n",
    "p3=Person(age=3,name='kang')"
   ]
  },
  {
   "cell_type": "code",
   "execution_count": 9,
   "metadata": {},
   "outputs": [
    {
     "name": "stdout",
     "output_type": "stream",
     "text": [
      "None\n"
     ]
    }
   ],
   "source": [
    "d={'a':1,'b':2}\n",
    "a1= d.update(c=3)\n",
    "a2=a1\n",
    "#a1=None이다. d를 업데이트 한것임.."
   ]
  },
  {
   "cell_type": "code",
   "execution_count": 11,
   "metadata": {},
   "outputs": [
    {
     "name": "stdout",
     "output_type": "stream",
     "text": [
      "80\n"
     ]
    }
   ],
   "source": [
    "# 9 , 4, 2 (3, 1, 7){'d'=3, 'e'=6}\n",
    "def func(a, b=1,c=2, *args, **kwargs):\n",
    "    d= sum([n*2 for n in args if n>2])\n",
    "    e = sum([v*v for k, v in kwargs.items()])\n",
    "    return a+b+c+d+e\n",
    "print(func(9,4,2,3,1,7,d=3,e=6))"
   ]
  },
  {
   "cell_type": "code",
   "execution_count": 12,
   "metadata": {},
   "outputs": [
    {
     "name": "stdout",
     "output_type": "stream",
     "text": [
      "11\n"
     ]
    }
   ],
   "source": [
    "a=1\n",
    "def func_1():\n",
    "    a=5\n",
    "    func_2()\n",
    "#func_2의 a는 전역변수 a=1을 호출...\n",
    "def func_2():\n",
    "    print(a, end=\"\")\n",
    "func_1()\n",
    "print(a)"
   ]
  },
  {
   "cell_type": "code",
   "execution_count": 14,
   "metadata": {},
   "outputs": [
    {
     "name": "stdout",
     "output_type": "stream",
     "text": [
      "[3, 'a', 'b']\n",
      "[1, 2, [3, 'a', 'b']]\n",
      "[3, 'a', 'b']\n",
      "[1, 2, [3, 'a', 'b']]\n",
      "[1, 2, [3, 'a', 'b']]\n"
     ]
    }
   ],
   "source": [
    "import copy\n",
    "\n",
    "list1=[3, 'a','b']\n",
    "list2=[1,2,list1]\n",
    "\n",
    "list3=list1[:]\n",
    "list4=copy.copy(list2)\n",
    "list5=copy.deepcopy(list2)\n",
    "\n",
    "print(list1)\n",
    "print(list2)\n",
    "print(list3)\n",
    "print(list4)\n",
    "print(list5)\n",
    "\n",
    "\n",
    "#list1==list3은 True이다.\n",
    "#list4[2][0] =4\n",
    "# print(list2[2][0])의 결과는 4이다.\n",
    "#틀림# list4[2]=5 print(list2[2])의 결과는 5이다.\n",
    "# list5[2][1]=3 print(list2[2][1])의 결과는 'a'이다."
   ]
  },
  {
   "cell_type": "code",
   "execution_count": null,
   "metadata": {},
   "outputs": [],
   "source": []
  },
  {
   "cell_type": "code",
   "execution_count": null,
   "metadata": {},
   "outputs": [],
   "source": []
  }
 ],
 "metadata": {
  "kernelspec": {
   "display_name": "Python 3",
   "language": "python",
   "name": "python3"
  },
  "language_info": {
   "codemirror_mode": {
    "name": "ipython",
    "version": 3
   },
   "file_extension": ".py",
   "mimetype": "text/x-python",
   "name": "python",
   "nbconvert_exporter": "python",
   "pygments_lexer": "ipython3",
   "version": "3.7.3"
  }
 },
 "nbformat": 4,
 "nbformat_minor": 2
}
