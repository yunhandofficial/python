{
 "cells": [
  {
   "cell_type": "code",
   "execution_count": 40,
   "metadata": {},
   "outputs": [
    {
     "name": "stdout",
     "output_type": "stream",
     "text": [
      "3 5\n"
     ]
    }
   ],
   "source": [
    "user_input = 'CE'\n",
    "\n",
    "all_char = 'ABCDEFGHIJKLMNOPQRSTUVWXYZ'\n",
    "num_list={}\n",
    "for i, char in enumerate(all_char):\n",
    "    num_list[char] = str(i+1)\n",
    "    \n",
    "done = []\n",
    "for key, val in num_list.items():\n",
    "    for i in user_input:\n",
    "        if i in key:\n",
    "            done.append(val)\n",
    "output =\" \".join(done)\n",
    "            \n",
    "         \n",
    "\n",
    "print(output)"
   ]
  },
  {
   "cell_type": "code",
   "execution_count": 33,
   "metadata": {},
   "outputs": [
    {
     "name": "stdout",
     "output_type": "stream",
     "text": [
      "1 2 3 4 5 6 7 8 9 10 11 12 13 14 15 16 17 18 19 20 21 22 23 24 25 26\n"
     ]
    }
   ],
   "source": [
    "all_alpha ='ABCDEFGHIJKLMNOPQRSTUVWXYZ'\n",
    "num_list=[]\n",
    "for i in user_input:\n",
    "    num_list.append(str(ord(i)-64))\n",
    "done=\" \".join(num_list)\n",
    "print(done)"
   ]
  },
  {
   "cell_type": "code",
   "execution_count": 2,
   "metadata": {},
   "outputs": [
    {
     "data": {
      "text/plain": [
       "['123', '100']"
      ]
     },
     "execution_count": 2,
     "metadata": {},
     "output_type": "execute_result"
    }
   ],
   "source": [
    "user_input = \"123 100\"\n",
    "\n",
    "user_input.split()"
   ]
  },
  {
   "cell_type": "code",
   "execution_count": null,
   "metadata": {},
   "outputs": [],
   "source": [
    "test_case = int(input()) # 3\n",
    "\n",
    "for case_number in range(test_case):\n",
    "    user_input = [int(num) for num in input().split()]\n",
    "    a=user_input[0]//user_input[1]\n",
    "    b=user_input[0]%user_input[1]\n",
    "    print('#'i,' ', a, b)"
   ]
  },
  {
   "cell_type": "code",
   "execution_count": 10,
   "metadata": {},
   "outputs": [
    {
     "name": "stdout",
     "output_type": "stream",
     "text": [
      "10\n",
      "1 2 5 10\n"
     ]
    }
   ],
   "source": [
    "user_input = int(input())\n",
    "division=[]\n",
    "for i in range(1,user_input+1):\n",
    "    if user_input%i ==0:\n",
    "        division.append(str(i))\n",
    "        \n",
    "\n",
    "a=' '.join(division)\n",
    "print(a)"
   ]
  },
  {
   "cell_type": "code",
   "execution_count": null,
   "metadata": {},
   "outputs": [],
   "source": [
    "user_input = int(input())\n",
    "for order in range(user_input):\n",
    "    ten = [int(num) for num in input().split()]\n",
    "    print('#'+str(order), max(ten))"
   ]
  },
  {
   "cell_type": "code",
   "execution_count": null,
   "metadata": {},
   "outputs": [],
   "source": [
    "user_input= int(input())\n",
    "for i in range(user_input):\n",
    "    two_num = [num for num in input().split()]\n",
    "    a = two_num[0]\n",
    "    b = two_num[1]\n",
    "    if a>b:\n",
    "        print('#'+str(i+1),'>')\n",
    "    elif a=b:\n",
    "        print('#'+str(i+1),'=')\n",
    "    else:\n",
    "        print('#'+str(i+1),'<')"
   ]
  },
  {
   "cell_type": "code",
   "execution_count": 1,
   "metadata": {},
   "outputs": [
    {
     "name": "stdout",
     "output_type": "stream",
     "text": [
      "\n"
     ]
    },
    {
     "ename": "ValueError",
     "evalue": "invalid literal for int() with base 10: ''",
     "output_type": "error",
     "traceback": [
      "\u001b[1;31m---------------------------------------------------------------------------\u001b[0m",
      "\u001b[1;31mValueError\u001b[0m                                Traceback (most recent call last)",
      "\u001b[1;32m<ipython-input-1-78b7b30eb36b>\u001b[0m in \u001b[0;36m<module>\u001b[1;34m\u001b[0m\n\u001b[1;32m----> 1\u001b[1;33m \u001b[0mN\u001b[0m\u001b[1;33m=\u001b[0m\u001b[0mint\u001b[0m\u001b[1;33m(\u001b[0m\u001b[0minput\u001b[0m\u001b[1;33m(\u001b[0m\u001b[1;33m)\u001b[0m\u001b[1;33m)\u001b[0m\u001b[1;33m\u001b[0m\u001b[1;33m\u001b[0m\u001b[0m\n\u001b[0m\u001b[0;32m      2\u001b[0m \u001b[1;32mfor\u001b[0m \u001b[0mi\u001b[0m \u001b[1;32min\u001b[0m \u001b[0mrange\u001b[0m\u001b[1;33m(\u001b[0m\u001b[0mN\u001b[0m\u001b[1;33m)\u001b[0m\u001b[1;33m:\u001b[0m\u001b[1;33m\u001b[0m\u001b[1;33m\u001b[0m\u001b[0m\n\u001b[0;32m      3\u001b[0m     \u001b[0mnum_list\u001b[0m \u001b[1;33m=\u001b[0m \u001b[1;33m[\u001b[0m\u001b[0mnum\u001b[0m \u001b[1;32mfor\u001b[0m \u001b[0mnum\u001b[0m \u001b[1;32min\u001b[0m \u001b[0minput\u001b[0m\u001b[1;33m(\u001b[0m\u001b[1;33m)\u001b[0m\u001b[1;33m.\u001b[0m\u001b[0msplit\u001b[0m\u001b[1;33m(\u001b[0m\u001b[1;33m)\u001b[0m\u001b[1;33m]\u001b[0m\u001b[1;33m\u001b[0m\u001b[1;33m\u001b[0m\u001b[0m\n\u001b[0;32m      4\u001b[0m     \u001b[0mprint\u001b[0m\u001b[1;33m(\u001b[0m\u001b[0mnum_list\u001b[0m\u001b[1;33m[\u001b[0m\u001b[0mN\u001b[0m\u001b[1;33m//\u001b[0m\u001b[1;36m2\u001b[0m\u001b[1;33m+\u001b[0m\u001b[1;36m2\u001b[0m\u001b[1;33m]\u001b[0m\u001b[1;33m)\u001b[0m\u001b[1;33m\u001b[0m\u001b[1;33m\u001b[0m\u001b[0m\n\u001b[0;32m      5\u001b[0m \u001b[1;33m\u001b[0m\u001b[0m\n",
      "\u001b[1;31mValueError\u001b[0m: invalid literal for int() with base 10: ''"
     ]
    }
   ],
   "source": [
    "N=int(input())\n",
    "for i in range(N):\n",
    "    num_list = [num for num in input().split()]\n",
    "    print(num_list[N//2+2])\n",
    "    "
   ]
  },
  {
   "cell_type": "code",
   "execution_count": 3,
   "metadata": {},
   "outputs": [
    {
     "name": "stdout",
     "output_type": "stream",
     "text": [
      "99\n"
     ]
    }
   ],
   "source": [
    "user_input = int('1295')\n",
    "num_set = set()\n",
    "k = 0\n",
    "if len(num_set) ==10:\n",
    "    break\n",
    "else:\n",
    "    \n",
    "        \n",
    "# while len(num_set) <10:\n",
    "#     for k in range(1,100):\n",
    "#         for i in str(user_input*k):\n",
    "#             num_set.add(i)\n",
    "# print(k)"
   ]
  },
  {
   "cell_type": "code",
   "execution_count": 1,
   "metadata": {},
   "outputs": [
    {
     "name": "stdout",
     "output_type": "stream",
     "text": [
      "range(0, 1)\n"
     ]
    }
   ],
   "source": [
    "print(range(1,))"
   ]
  },
  {
   "cell_type": "code",
   "execution_count": 1,
   "metadata": {},
   "outputs": [
    {
     "name": "stdout",
     "output_type": "stream",
     "text": [
      "3\n",
      "level\n",
      "['l', 'e', 'v', 'e', 'l']\n",
      "samsung\n",
      "['s', 'a', 'm', 's', 'u', 'n', 'g']\n",
      "eye\n",
      "['e', 'y', 'e']\n"
     ]
    }
   ],
   "source": [
    "case_num = int(input())\n",
    "for i in range(case_num):\n",
    "    char_list = [char for char in input()]\n",
    "    print(char_list)"
   ]
  },
  {
   "cell_type": "code",
   "execution_count": 1,
   "metadata": {},
   "outputs": [
    {
     "name": "stdout",
     "output_type": "stream",
     "text": [
      "3\n",
      "level\n",
      "#1 1\n",
      "samsung\n",
      "#2 0\n",
      "eye\n",
      "#3 1\n"
     ]
    }
   ],
   "source": [
    "case_num = int(input())\n",
    "for i in range(case_num):\n",
    "    char_list = [char for char in input()]\n",
    "    count=0\n",
    "    for k in range(len(char_list)):\n",
    "        if char_list[k]==char_list[len(char_list)-k-1]:\n",
    "            count+=1\n",
    "    if count == len(char_list):\n",
    "        print('#'+str(i+1), 1)\n",
    "    else:\n",
    "        print('#'+str(i+1), 0)"
   ]
  },
  {
   "cell_type": "code",
   "execution_count": null,
   "metadata": {},
   "outputs": [],
   "source": [
    "a={1}\n",
    "print(str(a))"
   ]
  },
  {
   "cell_type": "code",
   "execution_count": 2,
   "metadata": {},
   "outputs": [
    {
     "name": "stdout",
     "output_type": "stream",
     "text": [
      "2\n",
      "9 100 20 3 10\n",
      "#1 90\n",
      "8 300 100 10 250\n",
      "#2 1800\n"
     ]
    }
   ],
   "source": [
    "case_num = int(input())\n",
    "for i in range(case_num):\n",
    "    pqrsw = [num for num in input().split()]\n",
    "    p = int(pqrsw[0])\n",
    "    q = int(pqrsw[1])\n",
    "    r = int(pqrsw[2])\n",
    "    s = int(pqrsw[3])\n",
    "    w = int(pqrsw[4])\n",
    "    a_cost = w * p\n",
    "    if w <= r:\n",
    "        b_cost = q\n",
    "    else:\n",
    "        b_cost = q+(w-r)*s\n",
    "    min_cost = min(a_cost, b_cost)\n",
    "    print('#'+str(i+1), min_cost)"
   ]
  },
  {
   "cell_type": "code",
   "execution_count": null,
   "metadata": {},
   "outputs": [],
   "source": []
  }
 ],
 "metadata": {
  "kernelspec": {
   "display_name": "Python 3",
   "language": "python",
   "name": "python3"
  },
  "language_info": {
   "codemirror_mode": {
    "name": "ipython",
    "version": 3
   },
   "file_extension": ".py",
   "mimetype": "text/x-python",
   "name": "python",
   "nbconvert_exporter": "python",
   "pygments_lexer": "ipython3",
   "version": "3.7.3"
  }
 },
 "nbformat": 4,
 "nbformat_minor": 2
}
