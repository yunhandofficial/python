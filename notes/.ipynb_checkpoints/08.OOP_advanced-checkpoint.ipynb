{
 "cells": [
  {
   "cell_type": "markdown",
   "metadata": {},
   "source": [
    "# OOP advanced"
   ]
  },
  {
   "cell_type": "markdown",
   "metadata": {},
   "source": [
    "## 클래스 변수 / 인스턴스 변수\n",
    "\n",
    "### 클래스 변수\n",
    "* 클래스의 속성입니다.\n",
    "* 클래스 선언 블록 최상단에 위치합니다.\n",
    "* `Class.class_variable` 과 같이 접근/할당합니다.\n",
    "    ```python\n",
    "    class TestClass:\n",
    "        class_variable = '클래스변수'\n",
    "        ...\n",
    "        \n",
    "    TestClass.class_variable  # '클래스변수'\n",
    "    TestClass.class_variable = 'class variable'\n",
    "    TestClass.class_variable  # 'class variable'\n",
    "    \n",
    "    tc = TestClass()\n",
    "    tc.class_variable  # 인스턴스 => 클래스 => 전역 순서로 네임스페이스를 탐색하기 때문에, 접근하게 됩니다.\n",
    "    ```\n",
    "    \n",
    "### 인스턴스 변수\n",
    "* 인스턴스의 속성입니다.\n",
    "* 메서드 정의에서 `self.instance_variable` 로 접근/할당합니다.\n",
    "* 인스턴스가 생성된 이후 `instance.instance_variable` 로 접근/할당합니다.\n",
    "    ```python\n",
    "    class TestClass:\n",
    "        def __init__(self, arg1, arg2):\n",
    "            self.instance_var1 = arg1\n",
    "            self.instance_var2 = arg2\n",
    "        \n",
    "        def status(self):\n",
    "            return self.instance_var1, self.instance_var2   \n",
    "        \n",
    "    tc = TestClass(1, 2)\n",
    "    tc.instance_var1  # 1\n",
    "    tc.instance_var2  # 2\n",
    "    tc.status()  # (1, 2)\n",
    "    ```"
   ]
  },
  {
   "cell_type": "code",
   "execution_count": 5,
   "metadata": {},
   "outputs": [],
   "source": [
    "# 확인해 봅시다.\n",
    "class SamSung:\n",
    "    money = 4000\n",
    "    def __init__(self, location, major):\n",
    "        self.location = location\n",
    "        self.major = major\n",
    "    def status(self):\n",
    "        return self.location, self.major\n",
    "    "
   ]
  },
  {
   "cell_type": "code",
   "execution_count": 6,
   "metadata": {},
   "outputs": [
    {
     "data": {
      "text/plain": [
       "4500"
      ]
     },
     "execution_count": 6,
     "metadata": {},
     "output_type": "execute_result"
    }
   ],
   "source": [
    "# 클래스 변수에 접근/재할당해 봅시다.\n",
    "SamSung.money = 4500\n",
    "SamSung.money"
   ]
  },
  {
   "cell_type": "code",
   "execution_count": 7,
   "metadata": {},
   "outputs": [],
   "source": [
    "# 인스턴스를 생성하고 확인해 봅시다.\n",
    "samsungman1 = SamSung('광주','수교')"
   ]
  },
  {
   "cell_type": "code",
   "execution_count": 12,
   "metadata": {},
   "outputs": [],
   "source": [
    "# 인스턴스 변수를 재할당해 봅시다.\n",
    "samsungman1.money = 4000"
   ]
  },
  {
   "cell_type": "code",
   "execution_count": 13,
   "metadata": {},
   "outputs": [
    {
     "data": {
      "text/plain": [
       "4500"
      ]
     },
     "execution_count": 13,
     "metadata": {},
     "output_type": "execute_result"
    }
   ],
   "source": [
    "SamSung.money"
   ]
  },
  {
   "cell_type": "markdown",
   "metadata": {},
   "source": [
    "## 인스턴스 메서드 / 클래스 메서드 / 스태틱(정적) 메서드 \n",
    "\n",
    "### 인스턴스 메서드\n",
    "* 인스턴스가 사용할 메서드 입니다.\n",
    "* **정의 위에 어떠한 데코레이터도 없으면, 자동으로 인스턴스 메서드가 됩니다.**\n",
    "* **첫 번째 인자로 `self` 를 받도록 정의합니다. 이 때, 자동으로 인스턴스 객체가 `self` 가 됩니다.**\n",
    "    ```python\n",
    "    class MyClass:\n",
    "        def instance_method_name(self, arg1, arg2, ...):\n",
    "            ...\n",
    "    \n",
    "    my_instance = MyClass()\n",
    "    my_instance.instance_method_name(.., ..)  # 자동으로 첫 번째 인자로 인스턴스(my_instance)가 들어갑니다.\n",
    "    ```\n",
    "    \n",
    "### 클래스 메서드\n",
    "* 클래스가 사용할 메서드 입니다.\n",
    "* **정의 위에 `@classmethod` 데코레이터를 사용합니다.**\n",
    "* **첫 번째 인자로 `cls` 를 받도록 정의합니다. 이 때, 자동으로 클래스 객체가 `cls` 가 됩니다.**\n",
    "    ```python\n",
    "    class MyClass:\n",
    "        @classmethod\n",
    "        def class_method_name(cls, arg1, arg2, ...):\n",
    "            ...\n",
    "            \n",
    "    MyClass.class_method_name(.., ..)  # 자동으로 첫 번째 인자로 클래스(MyClass)가 들어갑니다.\n",
    "    ```\n",
    "\n",
    "### 스태틱(정적) 메서드\n",
    "* 클래스가 사용할 메서드 입니다.\n",
    "* **정의 위에 `@staticmethod` 데코레이터를 사용합니다.**\n",
    "* **인자 정의는 자유롭게 합니다. 어떠한 인자도 자동으로 넘어가지 않습니다.**\n",
    "    ```python\n",
    "    class MyClass:\n",
    "        @staticmethod\n",
    "        def static_method_name(arg1, arg2, ...):\n",
    "            ...\n",
    "    \n",
    "    MyClass.static_method_name(.., ..)  # 아무일도 자동으로 일어나지 않습니다.\n",
    "    ```"
   ]
  },
  {
   "cell_type": "code",
   "execution_count": 14,
   "metadata": {},
   "outputs": [],
   "source": [
    "class MyClass:\n",
    "    def instance_method(self):\n",
    "        return self\n",
    "    #self = mc\n",
    "    @classmethod\n",
    "    def class_method(cls):\n",
    "        return cls\n",
    "    #cls=MyClass\n",
    "    @staticmethod\n",
    "    def static_method(arg):\n",
    "        return arg\n",
    "\n",
    "mc = MyClass()"
   ]
  },
  {
   "cell_type": "code",
   "execution_count": 16,
   "metadata": {},
   "outputs": [
    {
     "name": "stdout",
     "output_type": "stream",
     "text": [
      "<__main__.MyClass object at 0x00000190FB099630>\n",
      "<class '__main__.MyClass'>\n"
     ]
    }
   ],
   "source": [
    "# 인스턴스 입장에서 확인해 봅시다.\n",
    "print(mc.instance_method())\n",
    "print(mc.class_method())"
   ]
  },
  {
   "cell_type": "markdown",
   "metadata": {},
   "source": [
    "#### 정리\n",
    "- 인스턴스는, 3가지 메서드 모두에 접근할 수 있습니다.\n",
    "- 하지만 인스턴스에서 클래스메서드와 스태틱메서드는 호출하지 않아야 합니다. (가능하다 != 사용한다) \n",
    "- 인스턴스가 할 행동은 모두 인스턴스 메서드로 한정 지어서 설계합니다."
   ]
  },
  {
   "cell_type": "markdown",
   "metadata": {},
   "source": [
    "---"
   ]
  },
  {
   "cell_type": "code",
   "execution_count": 19,
   "metadata": {},
   "outputs": [
    {
     "data": {
      "text/plain": [
       "<__main__.MyClass at 0x190fb099630>"
      ]
     },
     "execution_count": 19,
     "metadata": {},
     "output_type": "execute_result"
    }
   ],
   "source": [
    "# 클래스 입장에서 확인해 봅시다.\n",
    "MyClass.class_method()\n",
    "MyClass.static_method(123)\n",
    "MyClass.instance_method(mc)"
   ]
  },
  {
   "cell_type": "markdown",
   "metadata": {},
   "source": [
    "#### 정리\n",
    "- 클래스는, 3가지 메서드 모두에 접근할 수 있습니다.\n",
    "- 하지만 클래스에서 인스턴스메서드는 호출하지 않습니다. (가능하다 != 사용한다)\n",
    "- 클래스가 할 행동은 다음 원칙에 따라 설계합니다.\n",
    "    - 클래스 자체(`cls`)와 그 속성에 접근할 필요가 있다면 클래스메서드로 정의합니다.\n",
    "    - 클래스와 클래스 속성에 접근할 필요가 없다면 스태틱메서드로 정의합니다."
   ]
  },
  {
   "cell_type": "markdown",
   "metadata": {},
   "source": [
    "---"
   ]
  },
  {
   "cell_type": "code",
   "execution_count": 22,
   "metadata": {
    "scrolled": true
   },
   "outputs": [
    {
     "data": {
      "text/plain": [
       "1"
      ]
     },
     "execution_count": 22,
     "metadata": {},
     "output_type": "execute_result"
    }
   ],
   "source": [
    "# Person 클래스가 인사할 수 있는지 확인해보겠습니다.\n",
    "class Person():\n",
    "    population = 0\n",
    "    \n",
    "    def __init__(self, name):\n",
    "        self.name = name\n",
    "        Person.population += 1\n",
    "    def greeting(self):\n",
    "        print(f'Hi, my name is {self.name}')\n",
    "    def now(self):\n",
    "        print(f'현재 만들어진 사람은 {Person.population}명 이다.')\n",
    "\n",
    "p1 = Person('change')\n",
    "p1.name\n",
    "Person.population"
   ]
  },
  {
   "cell_type": "code",
   "execution_count": 28,
   "metadata": {},
   "outputs": [],
   "source": [
    "# 이번에는 Puppy class를 만들어보겠습니다.\n",
    "# 클래스 변수 num_of_dogs 통해 개가 생성될 때마다 증가시키도록 하겠습니다. \n",
    "# 개들은 각자의 이름과 나이를 가지고 있습니다. \n",
    "# 그리고 bark() 메서드를 통해 짖을 수 있습니다. \n",
    "class Puppy:\n",
    "    num_of_dogs = 0\n",
    "    \n",
    "    def __init__(self, name, age):\n",
    "        self.name = name\n",
    "        self.age = age\n",
    "        Puppy.num_of_dogs +=1\n",
    "    def bark(self):\n",
    "        print('앍!앍!')"
   ]
  },
  {
   "cell_type": "code",
   "execution_count": 29,
   "metadata": {},
   "outputs": [
    {
     "name": "stdout",
     "output_type": "stream",
     "text": [
      "앍!앍!\n"
     ]
    }
   ],
   "source": [
    "# 각각 이름과 나이가 다른 인스턴스를 3개 만들어봅시다.\n",
    "d1 = Puppy('단추', '5')\n",
    "d2 = Puppy('감자', '2')\n",
    "d3 = Puppy('단추엄마', '7')\n",
    "Puppy.num_of_dogs\n",
    "\n",
    "d3.bark()"
   ]
  },
  {
   "cell_type": "markdown",
   "metadata": {},
   "source": [
    "* 클래스메서드는 다음과 같이 정의됩니다.\n",
    "\n",
    "```python\n",
    "\n",
    "@classmethod\n",
    "def methodname(cls):\n",
    "    codeblock\n",
    "```"
   ]
  },
  {
   "cell_type": "code",
   "execution_count": 31,
   "metadata": {},
   "outputs": [],
   "source": [
    "# Doggy 클래스의 속성에 접근하는 클래스메서드를 생성해 보겠습니다.\n",
    "class Doggy:\n",
    "    num_of_dogs = 0\n",
    "    birth_of_dogs = 0\n",
    "    \n",
    "    def __init__(self, name, age):\n",
    "        self.name = name\n",
    "        self.age = age\n",
    "        Doggy.num_of_dogs +=1\n",
    "        Doggy.birth_of_dogs +=1\n",
    "        \n",
    "    def __del__(self):\n",
    "        Doggy.num_of_dogs -=1\n",
    "        \n",
    "    def bark(self):\n",
    "        print('앍!앍!')\n",
    "        \n",
    "    @classmethod\n",
    "    def status(cls):\n",
    "        print(f'태어난 강아지:{cls.birth_of_dogs}, 현재 강아지:{cls.num_of_dogs}')\n",
    "    "
   ]
  },
  {
   "cell_type": "code",
   "execution_count": 32,
   "metadata": {},
   "outputs": [],
   "source": [
    "# Dog 3 마리를 만들어보고,\n",
    "d1 = Doggy('단추', '5')\n",
    "d2 = Doggy('감자', '2')\n",
    "d3 = Doggy('단추엄마', '7')"
   ]
  },
  {
   "cell_type": "code",
   "execution_count": 35,
   "metadata": {},
   "outputs": [
    {
     "name": "stdout",
     "output_type": "stream",
     "text": [
      "태어난 강아지:3, 현재 강아지:3\n"
     ]
    }
   ],
   "source": [
    "# 함수를 호출해봅시다.\n",
    "Doggy.status()"
   ]
  },
  {
   "cell_type": "markdown",
   "metadata": {},
   "source": [
    "* 스태틱메서드는 다음과 같이 정의됩니다.\n",
    "\n",
    "```python\n",
    "\n",
    "@staticmethod\n",
    "def methodname():\n",
    "    codeblock\n",
    "```"
   ]
  },
  {
   "cell_type": "code",
   "execution_count": 36,
   "metadata": {},
   "outputs": [],
   "source": [
    "# Dog 에 어떠한 속성에도 접근하지 않는 스태틱메서드를 만들어보겠습니다.\n",
    "class Doggy:\n",
    "    num_of_dogs = 0\n",
    "    birth_of_dogs = 0\n",
    "    \n",
    "    def __init__(self, name, age):\n",
    "        self.name = name\n",
    "        self.age = age\n",
    "        Doggy.num_of_dogs +=1\n",
    "        Doggy.birth_of_dogs +=1\n",
    "        \n",
    "    def __del__(self):\n",
    "        Doggy.num_of_dogs -=1\n",
    "        \n",
    "    def bark(self):\n",
    "        print('앍!앍!')\n",
    "        \n",
    "    @classmethod\n",
    "    def status(cls):\n",
    "        print(f'태어난 강아지:{cls.birth_of_dogs}, 현재 강아지:{cls.num_of_dogs}')\n",
    "    @staticmethod\n",
    "    def info():\n",
    "        return '이것은 강아지입니다.'"
   ]
  },
  {
   "cell_type": "code",
   "execution_count": 37,
   "metadata": {},
   "outputs": [],
   "source": [
    "# Dog 3 마리를 만들어보고,\n",
    "d1 = Doggy('단추', '5')\n",
    "d2 = Doggy('감자', '2')\n",
    "d3 = Doggy('단추엄마', '7')"
   ]
  },
  {
   "cell_type": "code",
   "execution_count": 39,
   "metadata": {
    "scrolled": true
   },
   "outputs": [
    {
     "name": "stdout",
     "output_type": "stream",
     "text": [
      "태어난 강아지:3, 현재 강아지:1\n"
     ]
    }
   ],
   "source": [
    "# 함수를 호출해봅시다.\n",
    "Doggy.info()\n",
    "Doggy.status()"
   ]
  },
  {
   "cell_type": "markdown",
   "metadata": {},
   "source": [
    "## 실습문제 - 스태틱(정적) 메소드\n",
    "\n",
    "> 계산기 class인 `Calculator`를 만들어봅시다.\n",
    "\n",
    "* 다음과 같이 정적 메소드를 구성한다. \n",
    "* 모든 정적 메서드는, 두 수를 받아서 각각의 연산을 한 결과를 리턴한다.\n",
    "* `a` 연산자 `b` 의 순서로 연산한다. (`a - b`, `a / b`)\n",
    "    1. `add(a, b)` : 덧셈\n",
    "    2. `sub(a, b)` : 뺄셈 \n",
    "    3. `mul(a, b)` : 곱셈\n",
    "    4. `div(a, b)` : 나눗셈"
   ]
  },
  {
   "cell_type": "code",
   "execution_count": 48,
   "metadata": {},
   "outputs": [],
   "source": [
    "# 아래에 코드를 작성해주세요.\n",
    "class Calculator:\n",
    "    @staticmethod\n",
    "    def add(a, b):\n",
    "\n",
    "        return a+b\n",
    "    @staticmethod\n",
    "    def sub(a, b):\n",
    "\n",
    "        return a-b\n",
    "    @staticmethod\n",
    "    def mul(a, b):\n",
    "\n",
    "        return a*b\n",
    "    @staticmethod\n",
    "    def div(a, b):\n",
    "\n",
    "        return a/b"
   ]
  },
  {
   "cell_type": "code",
   "execution_count": 43,
   "metadata": {},
   "outputs": [],
   "source": [
    "# 정적메소드를 호출해보세요.\n",
    "a1=Calculator()\n",
    "a1.a = 3\n",
    "a1.b = 1"
   ]
  },
  {
   "cell_type": "code",
   "execution_count": 49,
   "metadata": {},
   "outputs": [
    {
     "data": {
      "text/plain": [
       "4"
      ]
     },
     "execution_count": 49,
     "metadata": {},
     "output_type": "execute_result"
    }
   ],
   "source": [
    "Calculator.add(3, 1)"
   ]
  },
  {
   "cell_type": "markdown",
   "metadata": {},
   "source": [
    "## 실습문제 - 종합1\n",
    "\n",
    "> 사실 이전에 작성한 Mylist는 완벽하지 않았습니다. \n",
    ">\n",
    "> 한번 제대로 된 자료구조를 만들어보겠습니다. \n",
    ">\n",
    "> `Stack` 클래스를 간략하게 구현해봅시다.\n",
    "\n",
    "> [Stack](https://ko.wikipedia.org/wiki/%EC%8A%A4%ED%83%9D) : 스택은 LIFO(Last in First Out)으로 구조화된 자료구조를 뜻합니다.\n",
    "\n",
    "모든 메서드는 인스턴스메서드 입니다.\n",
    "\n",
    "1. `empty()`: 스택이 비었다면 참을 리턴하고, 그렇지 않다면 거짓을 리턴한다.\n",
    "\n",
    "2. `top()`: 스택의 가장 마지막 데이터를 리턴한다. 스택이 비었다면 None을 리턴한다.\n",
    "\n",
    "3. `pop()`: 스택의 가장 마지막 데이터의 값을 리턴하고 해당 데이터를 삭제한다. 스택이 비었다면 None을 리턴한다.\n",
    "\n",
    "4. `push()`: 스택의 가장 마지막 데이터 뒤에 값을 추가한다. 아무것도 리턴하지 않는다.\n",
    "\n",
    "**다 완료하신 분들은 __repr__을 통해 예쁘게 출력까지 해봅시다.**"
   ]
  },
  {
   "cell_type": "code",
   "execution_count": 88,
   "metadata": {},
   "outputs": [],
   "source": [
    "# 여기에 코드를 작성해주세요.\n",
    "class Stack:\n",
    "    def __init__(self):\n",
    "        self.data = []\n",
    "        \n",
    "    def empty(self):\n",
    "        if len(self.data):\n",
    "            return False\n",
    "        else:\n",
    "            return True\n",
    "        \n",
    "    def top(self):\n",
    "        if self.data:\n",
    "            return self.data[-1]\n",
    "        else:\n",
    "            return None\n",
    "    def pop(self):\n",
    "        if not self.empty():\n",
    "            return self.data.pop()\n",
    "        \n",
    "    def push(self, dat):\n",
    "        self.dat = dat\n",
    "        self.data += str(self.dat)"
   ]
  },
  {
   "cell_type": "code",
   "execution_count": 99,
   "metadata": {},
   "outputs": [
    {
     "name": "stdout",
     "output_type": "stream",
     "text": [
      "['a', 'b', 'c']\n"
     ]
    }
   ],
   "source": [
    "# 인스턴스를 하나 만들고 메소드 조작을 해봅시다.\n",
    "s = Stack()\n",
    "s.empty() # True\n",
    "s.push(1) # None\n",
    "s.push(2) # None\n",
    "s.empty() # False\n",
    "s.top()   # 2\n",
    "s.empty() # False\n",
    "s.pop()   # 2\n",
    "s.empty() # False\n",
    "s.top()   # 1\n",
    "s.pop()   # 1\n",
    "s.pop()   # None\n",
    "s.empty() # True\n",
    "s.push('a')\n",
    "s.push('b')\n",
    "s.push('c')\n",
    "print(s.data)"
   ]
  },
  {
   "cell_type": "code",
   "execution_count": 55,
   "metadata": {},
   "outputs": [
    {
     "data": {
      "text/plain": [
       "True"
      ]
     },
     "execution_count": 55,
     "metadata": {},
     "output_type": "execute_result"
    }
   ],
   "source": [
    "def tf(a):\n",
    "    if len(a):\n",
    "        return False\n",
    "    else:\n",
    "        return True\n",
    "    \n",
    "tf(a)"
   ]
  },
  {
   "cell_type": "markdown",
   "metadata": {},
   "source": [
    "## 연산자 오버라이딩(중복 정의, 덮어 쓰기)\n",
    "\n",
    "* 파이썬에 기본적으로 정의된 연산자를 직접적으로 정의하여 활용할 수 있습니다. \n",
    "\n",
    "* 몇가지만 소개하고 활용해봅시다.\n",
    "\n",
    "```\n",
    "+  __add__   \n",
    "-  __sub__\n",
    "*  __mul__\n",
    "<  __lt__\n",
    "<= __le__\n",
    "== __eq__\n",
    "!= __ne__\n",
    ">= __ge__\n",
    ">  __gt__\n",
    "```"
   ]
  },
  {
   "cell_type": "code",
   "execution_count": 100,
   "metadata": {},
   "outputs": [
    {
     "data": {
      "text/plain": [
       "True"
      ]
     },
     "execution_count": 100,
     "metadata": {},
     "output_type": "execute_result"
    }
   ],
   "source": [
    "# 사람과 사람을 같은지 비교하면, 이는 나이가 같은지 비교한 결과를 반환하도록 만들어봅시다.\n",
    "class Person:\n",
    "    population = 0\n",
    "    def __init__(self, name, age):\n",
    "        self.name = name\n",
    "        self.age = age\n",
    "        Person.population += 1\n",
    "    def __gt__(self, other):\n",
    "        if self.age > other.age:\n",
    "            return True\n",
    "        else:\n",
    "            return False\n",
    "        \n",
    "p1 = Person('노인', 100)\n",
    "p2 = Person('아기', 5)\n",
    "p1>p2"
   ]
  },
  {
   "cell_type": "code",
   "execution_count": null,
   "metadata": {},
   "outputs": [],
   "source": [
    "# 연산자를 호출해 봅시다."
   ]
  },
  {
   "cell_type": "markdown",
   "metadata": {},
   "source": [
    "# 상속 \n",
    "\n",
    "## 기초\n",
    "\n",
    "* 클래스에서 가장 큰 특징은 '상속' 기능을 가지고 있다는 것이다. \n",
    "\n",
    "* 부모 클래스의 모든 속성이 자식 클래스에게 상속 되므로 코드재사용성이 높아집니다.\n",
    "\n",
    "```python\n",
    "class DerivedClassName(BaseClassName):\n",
    "    code block\n",
    "```"
   ]
  },
  {
   "cell_type": "code",
   "execution_count": 104,
   "metadata": {},
   "outputs": [
    {
     "name": "stdout",
     "output_type": "stream",
     "text": [
      "hi i am change\n"
     ]
    }
   ],
   "source": [
    "# 인사만 할 수 있는 간단한 사람 클래스를 만들어봅시다.\n",
    "class Person:\n",
    "    population =0\n",
    "    def __init__(self, name='사람'):\n",
    "        self.name = name\n",
    "        Person.population += 1\n",
    "        \n",
    "    def greeting(self):\n",
    "        print(f'hi i am {self.name}')\n",
    "        \n",
    "p1= Person('change')\n",
    "p1.greeting()\n",
    "    "
   ]
  },
  {
   "cell_type": "code",
   "execution_count": 105,
   "metadata": {},
   "outputs": [],
   "source": [
    "# 사람 클래스를 상속받아 학생 클래스를 만들어봅시다.\n",
    "class Student(Person):\n",
    "    def __init__(self, student_id, name='사람'):\n",
    "        self.student_id = student_id\n",
    "        self.name = name"
   ]
  },
  {
   "cell_type": "code",
   "execution_count": 109,
   "metadata": {},
   "outputs": [],
   "source": [
    "# 학생을 만들어봅시다.\n",
    "s = Student(123456,'김싸피')"
   ]
  },
  {
   "cell_type": "code",
   "execution_count": 115,
   "metadata": {},
   "outputs": [
    {
     "name": "stdout",
     "output_type": "stream",
     "text": [
      "hi i am 김싸피\n"
     ]
    },
    {
     "ename": "AttributeError",
     "evalue": "type object 'Person' has no attribute 'population'",
     "output_type": "error",
     "traceback": [
      "\u001b[1;31m---------------------------------------------------------------------------\u001b[0m",
      "\u001b[1;31mAttributeError\u001b[0m                            Traceback (most recent call last)",
      "\u001b[1;32m<ipython-input-115-7d7af37b179c>\u001b[0m in \u001b[0;36m<module>\u001b[1;34m\u001b[0m\n\u001b[0;32m      1\u001b[0m \u001b[1;31m# 부모 클래스에 정의를 했음에도 메소드를 호출 할 수 있습니다.\u001b[0m\u001b[1;33m\u001b[0m\u001b[1;33m\u001b[0m\u001b[1;33m\u001b[0m\u001b[0m\n\u001b[0;32m      2\u001b[0m \u001b[0ms\u001b[0m\u001b[1;33m.\u001b[0m\u001b[0mgreeting\u001b[0m\u001b[1;33m(\u001b[0m\u001b[1;33m)\u001b[0m\u001b[1;33m\u001b[0m\u001b[1;33m\u001b[0m\u001b[0m\n\u001b[1;32m----> 3\u001b[1;33m \u001b[0mPerson\u001b[0m\u001b[1;33m.\u001b[0m\u001b[0mpopulation\u001b[0m\u001b[1;33m(\u001b[0m\u001b[1;33m)\u001b[0m\u001b[1;33m\u001b[0m\u001b[1;33m\u001b[0m\u001b[0m\n\u001b[0m",
      "\u001b[1;31mAttributeError\u001b[0m: type object 'Person' has no attribute 'population'"
     ]
    }
   ],
   "source": [
    "# 부모 클래스에 정의를 했음에도 메소드를 호출 할 수 있습니다.\n",
    "s.greeting()\n",
    "Person.population()"
   ]
  },
  {
   "cell_type": "markdown",
   "metadata": {},
   "source": [
    "* 이처럼 상속은 공통된 속성이나 메소드를 부모 클래스에 정의하고, 이를 상속받아 다양한 형태의 사람들을 만들 수 있습니다."
   ]
  },
  {
   "cell_type": "code",
   "execution_count": 112,
   "metadata": {},
   "outputs": [
    {
     "data": {
      "text/plain": [
       "True"
      ]
     },
     "execution_count": 112,
     "metadata": {},
     "output_type": "execute_result"
    }
   ],
   "source": [
    "# 진짜 상속관계인지 확인해봅시다.\n",
    "issubclass(Student, Person)"
   ]
  },
  {
   "cell_type": "markdown",
   "metadata": {},
   "source": [
    "## super()\n",
    "\n",
    "* 자식 클래스에 메서드를 추가 구현할 수 있습니다.\n",
    "\n",
    "* 부모 클래스의 내용을 사용하고자 할 때, `super()`를 사용할 수 있습니다."
   ]
  },
  {
   "cell_type": "code",
   "execution_count": 114,
   "metadata": {},
   "outputs": [
    {
     "name": "stdout",
     "output_type": "stream",
     "text": [
      "안녕, 홍길동\n",
      "안녕, 학생\n"
     ]
    }
   ],
   "source": [
    "class Person:\n",
    "    def __init__(self, name, age, number, email):\n",
    "        self.name = name\n",
    "        self.age = age\n",
    "        self.number = number\n",
    "        self.email = email \n",
    "        \n",
    "    def greeting(self):\n",
    "        print(f'안녕, {self.name}')\n",
    "        \n",
    "class Student(Person):\n",
    "    def __init__(self, name, age, number, email, student_id):\n",
    "        super().__init__(name, age, number, email)\n",
    "        self.student_id = student_id\n",
    "        \n",
    "p1 = Person('홍길동', 200, '0101231234', 'hong@gildong')\n",
    "s1 = Student('학생', 20, '12312312', 'student@naver.com', '190000')\n",
    "\n",
    "p1.greeting()\n",
    "s1.greeting()"
   ]
  },
  {
   "cell_type": "markdown",
   "metadata": {},
   "source": [
    "* 위의 코드를 보면, 상속을 했음에도 불구하고 동일한 코드가 반복됩니다. "
   ]
  },
  {
   "cell_type": "code",
   "execution_count": 116,
   "metadata": {},
   "outputs": [
    {
     "name": "stdout",
     "output_type": "stream",
     "text": [
      "안녕, 홍길동\n",
      "안녕, 학생\n"
     ]
    }
   ],
   "source": [
    "# 이를 수정해봅시다.\n",
    "class Person:\n",
    "    def __init__(self, name, age, number, email):\n",
    "        self.name = name\n",
    "        self.age = age\n",
    "        self.number = number\n",
    "        self.email = email \n",
    "        \n",
    "    def greeting(self):\n",
    "        print(f'안녕, {self.name}')\n",
    "        \n",
    "class Student(Person):\n",
    "    def __init__(self, name, age, number, email, student_id):\n",
    "        self.name = name\n",
    "        self.age = age\n",
    "        self.number = number\n",
    "        self.email = email \n",
    "        self.student_id = student_id\n",
    "        \n",
    "p1 = Person('홍길동', 200, '0101231234', 'hong@gildong')\n",
    "s1 = Student('학생', 20, '12312312', 'student@naver.com', '190000')\n",
    "\n",
    "p1.greeting()\n",
    "s1.greeting()"
   ]
  },
  {
   "cell_type": "markdown",
   "metadata": {},
   "source": [
    "## 메서드 오버라이딩\n",
    "\n",
    "* 메서드를 재정의할 수도 있습니다."
   ]
  },
  {
   "cell_type": "code",
   "execution_count": 119,
   "metadata": {},
   "outputs": [
    {
     "name": "stdout",
     "output_type": "stream",
     "text": [
      "충성! 이병 굳건이\n"
     ]
    }
   ],
   "source": [
    "# 군인은 다른 인사를 합니다.\n",
    "class Soldier(Person):\n",
    "    def __init__(self, name, age, number, email, army_id):\n",
    "        super().__init__(name, age, number, email)\n",
    "        self.army_id = army_id\n",
    "        \n",
    "    def greeting(self):\n",
    "        print(f'충성! 이병 {self.name}')\n",
    "s1 = Soldier('굳건이', 20, 123123, 'email@email.com', 123456)\n",
    "s1.greeting()"
   ]
  },
  {
   "cell_type": "markdown",
   "metadata": {},
   "source": [
    "## 상속관계에서의 이름공간\n",
    "\n",
    "* 기존에 인스턴스 -> 클래스순으로 이름 공간을 탐색해나가는 과정에서 상속관계에 있으면 아래와 같이 확장됩니다.\n",
    "\n",
    "* instance => class => global\n",
    "* 인스턴스 -> 자식 클래스 -> 부모 클래스 -> 전역"
   ]
  },
  {
   "cell_type": "markdown",
   "metadata": {},
   "source": [
    "## 실습1 \n",
    "\n",
    "> Teacher 클래스를 만들어보고 Student와 Teacher 클래스에 각각 다른 행동의 메소드들을 하나씩 추가해봅시다."
   ]
  },
  {
   "cell_type": "code",
   "execution_count": null,
   "metadata": {},
   "outputs": [],
   "source": [
    "# 아래에 코드를 작성해주세요."
   ]
  },
  {
   "cell_type": "markdown",
   "metadata": {},
   "source": [
    "## 실습2\n",
    "\n",
    "> 사실 사람은 포유류입니다. \n",
    ">\n",
    "> Animal Class를 만들고, Person클래스가 상속받도록 구성해봅시다.\n",
    ">\n",
    "> 변수나, 메소드는 자유롭게 만들어봅시다."
   ]
  },
  {
   "cell_type": "code",
   "execution_count": null,
   "metadata": {},
   "outputs": [],
   "source": [
    "# 아래에 코드를 작성해주세요."
   ]
  },
  {
   "cell_type": "markdown",
   "metadata": {},
   "source": [
    "## 다중 상속\n",
    "두개 이상의 클래스를 상속받는 경우, 다중상속이 됩니다."
   ]
  },
  {
   "cell_type": "code",
   "execution_count": null,
   "metadata": {},
   "outputs": [],
   "source": [
    "# Person 클래스를 정의합니다."
   ]
  },
  {
   "cell_type": "code",
   "execution_count": null,
   "metadata": {},
   "outputs": [],
   "source": [
    "# Mom 클래스를 정의합니다."
   ]
  },
  {
   "cell_type": "code",
   "execution_count": null,
   "metadata": {},
   "outputs": [],
   "source": [
    "# Dad 클래스를 정의합니다."
   ]
  },
  {
   "cell_type": "code",
   "execution_count": null,
   "metadata": {},
   "outputs": [],
   "source": [
    "# Child 클래스를 정의합니다."
   ]
  },
  {
   "cell_type": "code",
   "execution_count": null,
   "metadata": {},
   "outputs": [],
   "source": [
    "# Child 의 인스턴스 객체를 확인합니다."
   ]
  },
  {
   "cell_type": "code",
   "execution_count": null,
   "metadata": {},
   "outputs": [],
   "source": [
    "# cry 메서드를 실행합니다."
   ]
  },
  {
   "cell_type": "code",
   "execution_count": null,
   "metadata": {},
   "outputs": [],
   "source": [
    "# swim 메서드를 실행합니다."
   ]
  },
  {
   "cell_type": "code",
   "execution_count": null,
   "metadata": {},
   "outputs": [],
   "source": [
    "# walk 메서드를 실행합니다."
   ]
  },
  {
   "cell_type": "code",
   "execution_count": null,
   "metadata": {},
   "outputs": [],
   "source": [
    "# gene 은 누구의 속성을 참조할까요?"
   ]
  },
  {
   "cell_type": "code",
   "execution_count": null,
   "metadata": {},
   "outputs": [],
   "source": [
    "# 상속 순서를 바꿔봅시다."
   ]
  },
  {
   "cell_type": "code",
   "execution_count": null,
   "metadata": {},
   "outputs": [],
   "source": [
    "# Child 의 인스턴스 객체를 확인합니다."
   ]
  },
  {
   "cell_type": "code",
   "execution_count": null,
   "metadata": {},
   "outputs": [],
   "source": [
    "# cry메서드를 실행합니다."
   ]
  },
  {
   "cell_type": "code",
   "execution_count": null,
   "metadata": {},
   "outputs": [],
   "source": [
    "# swim 메서드를 실행합니다."
   ]
  },
  {
   "cell_type": "code",
   "execution_count": null,
   "metadata": {},
   "outputs": [],
   "source": [
    "# walk 메서드를 실행합니다."
   ]
  },
  {
   "cell_type": "code",
   "execution_count": null,
   "metadata": {},
   "outputs": [],
   "source": [
    "# gene 은 누구의 속성을 참조할까요?"
   ]
  },
  {
   "cell_type": "markdown",
   "metadata": {},
   "source": [
    "## 포켓몬 구현하기\n",
    "\n",
    "> 포켓몬을 상속하는 이상해씨, 파이리, 꼬부기를 구현해 봅시다. 게임을 만든다면 아래와 같이 먼저 기획을 하고 코드로 구현하게 됩니다.\n",
    "우선 아래와 같이 구현해 보고, 추가로 본인이 원하는 대로 구현 및 수정해 봅시다.\n",
    "\n",
    "모든 포켓몬은 다음과 같은 속성을 갖습니다.\n",
    "* `name`: 이름\n",
    "* `level`: 레벨\n",
    "    * 레벨은 시작할 때 모두 5 입니다.\n",
    "* `hp`: 체력\n",
    "    * 체력은 `level` * 20 입니다.\n",
    "* `exp`: 경험치\n",
    "    * 상대방을 쓰러뜨리면 상대방 `level` * 15 를 획득합니다.\n",
    "    * 경험치는 `level` * 100 이 되면, 레벨이 하나 올라가고 0부터 추가 됩니다. \n",
    "\n",
    "이후 이상해씨, 파이리, 꼬부기는 포켓몬을 상속하여 자유롭게 구현해 봅시다.\n",
    "\n",
    "추가적으로 \n",
    "\n",
    "* 포켓몬 => 물포켓몬 => 꼬부기 \n",
    "* 포켓몬 => 물포켓몬 => 잉어킹\n",
    "* 포켓몬 => 비행포켓몬, 불포켓몬 => 파이어\n",
    "\n",
    "와 같이 다양한 추가 상속관계도 구현해 봅시다."
   ]
  }
 ],
 "metadata": {
  "kernelspec": {
   "display_name": "Python 3",
   "language": "python",
   "name": "python3"
  },
  "language_info": {
   "codemirror_mode": {
    "name": "ipython",
    "version": 3
   },
   "file_extension": ".py",
   "mimetype": "text/x-python",
   "name": "python",
   "nbconvert_exporter": "python",
   "pygments_lexer": "ipython3",
   "version": "3.7.3"
  },
  "latex_envs": {
   "LaTeX_envs_menu_present": true,
   "autoclose": false,
   "autocomplete": true,
   "bibliofile": "biblio.bib",
   "cite_by": "apalike",
   "current_citInitial": 1,
   "eqLabelWithNumbers": true,
   "eqNumInitial": 1,
   "hotkeys": {
    "equation": "Ctrl-E",
    "itemize": "Ctrl-I"
   },
   "labels_anchors": false,
   "latex_user_defs": false,
   "report_style_numbering": false,
   "user_envs_cfg": false
  },
  "toc": {
   "base_numbering": 1,
   "nav_menu": {},
   "number_sections": true,
   "sideBar": true,
   "skip_h1_title": false,
   "title_cell": "Table of Contents",
   "title_sidebar": "Contents",
   "toc_cell": false,
   "toc_position": {},
   "toc_section_display": true,
   "toc_window_display": false
  }
 },
 "nbformat": 4,
 "nbformat_minor": 2
}
