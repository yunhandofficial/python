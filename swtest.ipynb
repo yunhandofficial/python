{
 "cells": [
  {
   "cell_type": "code",
   "execution_count": 40,
   "metadata": {},
   "outputs": [
    {
     "name": "stdout",
     "output_type": "stream",
     "text": [
      "3 5\n"
     ]
    }
   ],
   "source": [
    "user_input = 'CE'\n",
    "\n",
    "all_char = 'ABCDEFGHIJKLMNOPQRSTUVWXYZ'\n",
    "num_list={}\n",
    "for i, char in enumerate(all_char):\n",
    "    num_list[char] = str(i+1)\n",
    "    \n",
    "done = []\n",
    "for key, val in num_list.items():\n",
    "    for i in user_input:\n",
    "        if i in key:\n",
    "            done.append(val)\n",
    "output =\" \".join(done)\n",
    "            \n",
    "         \n",
    "\n",
    "print(output)"
   ]
  },
  {
   "cell_type": "code",
   "execution_count": 33,
   "metadata": {},
   "outputs": [
    {
     "name": "stdout",
     "output_type": "stream",
     "text": [
      "1 2 3 4 5 6 7 8 9 10 11 12 13 14 15 16 17 18 19 20 21 22 23 24 25 26\n"
     ]
    }
   ],
   "source": [
    "all_alpha ='ABCDEFGHIJKLMNOPQRSTUVWXYZ'\n",
    "num_list=[]\n",
    "for i in user_input:\n",
    "    num_list.append(str(ord(i)-64))\n",
    "done=\" \".join(num_list)\n",
    "print(done)"
   ]
  },
  {
   "cell_type": "code",
   "execution_count": 2,
   "metadata": {},
   "outputs": [
    {
     "data": {
      "text/plain": [
       "['123', '100']"
      ]
     },
     "execution_count": 2,
     "metadata": {},
     "output_type": "execute_result"
    }
   ],
   "source": [
    "user_input = \"123 100\"\n",
    "\n",
    "user_input.split()"
   ]
  },
  {
   "cell_type": "code",
   "execution_count": null,
   "metadata": {},
   "outputs": [],
   "source": [
    "test_case = int(input()) # 3\n",
    "\n",
    "for case_number in range(test_case):\n",
    "    user_input = [int(num) for num in input().split()]\n",
    "    a=user_input[0]//user_input[1]\n",
    "    b=user_input[0]%user_input[1]\n",
    "    print('#'i,' ', a, b)"
   ]
  },
  {
   "cell_type": "code",
   "execution_count": 10,
   "metadata": {},
   "outputs": [
    {
     "name": "stdout",
     "output_type": "stream",
     "text": [
      "10\n",
      "1 2 5 10\n"
     ]
    }
   ],
   "source": [
    "user_input = int(input())\n",
    "division=[]\n",
    "for i in range(1,user_input+1):\n",
    "    if user_input%i ==0:\n",
    "        division.append(str(i))\n",
    "        \n",
    "\n",
    "a=' '.join(division)\n",
    "print(a)"
   ]
  },
  {
   "cell_type": "code",
   "execution_count": null,
   "metadata": {},
   "outputs": [],
   "source": [
    "user_input = int(input())\n",
    "for order in range(user_input):\n",
    "    ten = [int(num) for num in input().split()]\n",
    "    print('#'+str(order), max(ten))"
   ]
  },
  {
   "cell_type": "code",
   "execution_count": null,
   "metadata": {},
   "outputs": [],
   "source": [
    "user_input= int(input())\n",
    "for i in range(user_input):\n",
    "    two_num = [num for num in input().split()]\n",
    "    a = two_num[0]\n",
    "    b = two_num[1]\n",
    "    if a>b:\n",
    "        print('#'+str(i+1),'>')\n",
    "    elif a=b:\n",
    "        print('#'+str(i+1),'=')\n",
    "    else:\n",
    "        print('#'+str(i+1),'<')"
   ]
  },
  {
   "cell_type": "code",
   "execution_count": 1,
   "metadata": {},
   "outputs": [
    {
     "name": "stdout",
     "output_type": "stream",
     "text": [
      "\n"
     ]
    },
    {
     "ename": "ValueError",
     "evalue": "invalid literal for int() with base 10: ''",
     "output_type": "error",
     "traceback": [
      "\u001b[1;31m---------------------------------------------------------------------------\u001b[0m",
      "\u001b[1;31mValueError\u001b[0m                                Traceback (most recent call last)",
      "\u001b[1;32m<ipython-input-1-78b7b30eb36b>\u001b[0m in \u001b[0;36m<module>\u001b[1;34m\u001b[0m\n\u001b[1;32m----> 1\u001b[1;33m \u001b[0mN\u001b[0m\u001b[1;33m=\u001b[0m\u001b[0mint\u001b[0m\u001b[1;33m(\u001b[0m\u001b[0minput\u001b[0m\u001b[1;33m(\u001b[0m\u001b[1;33m)\u001b[0m\u001b[1;33m)\u001b[0m\u001b[1;33m\u001b[0m\u001b[1;33m\u001b[0m\u001b[0m\n\u001b[0m\u001b[0;32m      2\u001b[0m \u001b[1;32mfor\u001b[0m \u001b[0mi\u001b[0m \u001b[1;32min\u001b[0m \u001b[0mrange\u001b[0m\u001b[1;33m(\u001b[0m\u001b[0mN\u001b[0m\u001b[1;33m)\u001b[0m\u001b[1;33m:\u001b[0m\u001b[1;33m\u001b[0m\u001b[1;33m\u001b[0m\u001b[0m\n\u001b[0;32m      3\u001b[0m     \u001b[0mnum_list\u001b[0m \u001b[1;33m=\u001b[0m \u001b[1;33m[\u001b[0m\u001b[0mnum\u001b[0m \u001b[1;32mfor\u001b[0m \u001b[0mnum\u001b[0m \u001b[1;32min\u001b[0m \u001b[0minput\u001b[0m\u001b[1;33m(\u001b[0m\u001b[1;33m)\u001b[0m\u001b[1;33m.\u001b[0m\u001b[0msplit\u001b[0m\u001b[1;33m(\u001b[0m\u001b[1;33m)\u001b[0m\u001b[1;33m]\u001b[0m\u001b[1;33m\u001b[0m\u001b[1;33m\u001b[0m\u001b[0m\n\u001b[0;32m      4\u001b[0m     \u001b[0mprint\u001b[0m\u001b[1;33m(\u001b[0m\u001b[0mnum_list\u001b[0m\u001b[1;33m[\u001b[0m\u001b[0mN\u001b[0m\u001b[1;33m//\u001b[0m\u001b[1;36m2\u001b[0m\u001b[1;33m+\u001b[0m\u001b[1;36m2\u001b[0m\u001b[1;33m]\u001b[0m\u001b[1;33m)\u001b[0m\u001b[1;33m\u001b[0m\u001b[1;33m\u001b[0m\u001b[0m\n\u001b[0;32m      5\u001b[0m \u001b[1;33m\u001b[0m\u001b[0m\n",
      "\u001b[1;31mValueError\u001b[0m: invalid literal for int() with base 10: ''"
     ]
    }
   ],
   "source": [
    "N=int(input())\n",
    "for i in range(N):\n",
    "    num_list = [num for num in input().split()]\n",
    "    print(num_list[N//2+2])\n",
    "    "
   ]
  },
  {
   "cell_type": "code",
   "execution_count": 3,
   "metadata": {},
   "outputs": [
    {
     "name": "stdout",
     "output_type": "stream",
     "text": [
      "99\n"
     ]
    }
   ],
   "source": [
    "user_input = int('1295')\n",
    "num_set = set()\n",
    "k = 0\n",
    "if len(num_set) ==10:\n",
    "    break\n",
    "else:\n",
    "    \n",
    "        \n",
    "# while len(num_set) <10:\n",
    "#     for k in range(1,100):\n",
    "#         for i in str(user_input*k):\n",
    "#             num_set.add(i)\n",
    "# print(k)"
   ]
  },
  {
   "cell_type": "code",
   "execution_count": 1,
   "metadata": {},
   "outputs": [
    {
     "name": "stdout",
     "output_type": "stream",
     "text": [
      "range(0, 1)\n"
     ]
    }
   ],
   "source": [
    "print(range(1,))"
   ]
  },
  {
   "cell_type": "code",
   "execution_count": 1,
   "metadata": {},
   "outputs": [
    {
     "name": "stdout",
     "output_type": "stream",
     "text": [
      "3\n",
      "level\n",
      "['l', 'e', 'v', 'e', 'l']\n",
      "samsung\n",
      "['s', 'a', 'm', 's', 'u', 'n', 'g']\n",
      "eye\n",
      "['e', 'y', 'e']\n"
     ]
    }
   ],
   "source": [
    "case_num = int(input())\n",
    "for i in range(case_num):\n",
    "    char_list = [char for char in input()]\n",
    "    print(char_list)"
   ]
  },
  {
   "cell_type": "code",
   "execution_count": 1,
   "metadata": {},
   "outputs": [
    {
     "name": "stdout",
     "output_type": "stream",
     "text": [
      "3\n",
      "level\n",
      "#1 1\n",
      "samsung\n",
      "#2 0\n",
      "eye\n",
      "#3 1\n"
     ]
    }
   ],
   "source": [
    "case_num = int(input())\n",
    "for i in range(case_num):\n",
    "    char_list = [char for char in input()]\n",
    "    count=0\n",
    "    for k in range(len(char_list)):\n",
    "        if char_list[k]==char_list[len(char_list)-k-1]:\n",
    "            count+=1\n",
    "    if count == len(char_list):\n",
    "        print('#'+str(i+1), 1)\n",
    "    else:\n",
    "        print('#'+str(i+1), 0)"
   ]
  },
  {
   "cell_type": "code",
   "execution_count": null,
   "metadata": {},
   "outputs": [],
   "source": [
    "a={1}\n",
    "print(str(a))"
   ]
  },
  {
   "cell_type": "code",
   "execution_count": 2,
   "metadata": {},
   "outputs": [
    {
     "name": "stdout",
     "output_type": "stream",
     "text": [
      "2\n",
      "9 100 20 3 10\n",
      "#1 90\n",
      "8 300 100 10 250\n",
      "#2 1800\n"
     ]
    }
   ],
   "source": [
    "case_num = int(input())\n",
    "for i in range(case_num):\n",
    "    pqrsw = [num for num in input().split()]\n",
    "    p = int(pqrsw[0])\n",
    "    q = int(pqrsw[1])\n",
    "    r = int(pqrsw[2])\n",
    "    s = int(pqrsw[3])\n",
    "    w = int(pqrsw[4])\n",
    "    a_cost = w * p\n",
    "    if w <= r:\n",
    "        b_cost = q\n",
    "    else:\n",
    "        b_cost = q+(w-r)*s\n",
    "    min_cost = min(a_cost, b_cost)\n",
    "    print('#'+str(i+1), min_cost)"
   ]
  },
  {
   "cell_type": "code",
   "execution_count": 1,
   "metadata": {},
   "outputs": [
    {
     "data": {
      "text/plain": [
       "'0807'"
      ]
     },
     "execution_count": 1,
     "metadata": {},
     "output_type": "execute_result"
    }
   ],
   "source": [
    "import datetime\n",
    "\n",
    "now = datetime.datetime.now()\n",
    "now.strftime('%m%d')"
   ]
  },
  {
   "cell_type": "code",
   "execution_count": null,
   "metadata": {},
   "outputs": [],
   "source": []
  },
  {
   "cell_type": "code",
   "execution_count": 12,
   "metadata": {},
   "outputs": [
    {
     "name": "stdout",
     "output_type": "stream",
     "text": [
      "1\n",
      "10\n",
      "629 3497 7202 7775 4325 3982 4784 8417 2156 1932\n",
      "#1 26725\n"
     ]
    }
   ],
   "source": [
    "TC =int(input())\n",
    "for c in range(TC):\n",
    "    days=int(input())\n",
    "    prices = [int(num) for num in input().split()]\n",
    "    result = 0\n",
    "    while len(prices) != 1:\n",
    "        if prices.index(max(prices))!=0:\n",
    "            m_index= prices.index(max(prices))\n",
    "            for i in range(m_index):\n",
    "                result += max(prices)-prices[0]\n",
    "                prices.remove(prices[0])\n",
    "        else:\n",
    "            prices.remove(prices[0])\n",
    "    print('#'+str(c+1), result)"
   ]
  },
  {
   "cell_type": "code",
   "execution_count": 5,
   "metadata": {},
   "outputs": [
    {
     "name": "stdout",
     "output_type": "stream",
     "text": [
      "1\n",
      "5\n",
      "6426 9445 8772 81 3447\n",
      "#1 3019\n"
     ]
    }
   ],
   "source": [
    "TC =int(input())\n",
    "for c in range(TC):\n",
    "    days=int(input())\n",
    "    prices = [int(num) for num in input().split()]\n",
    "    result = 0\n",
    "    if prices.index(max(prices))!=0:\n",
    "        while prices.index(max(prices))!=0:\n",
    "            m_index= prices.index(max(prices))\n",
    "            for i in range(m_index):\n",
    "                result += max(prices)-prices[0]\n",
    "                prices.remove(prices[0])\n",
    "        else:\n",
    "            prices.remove(max(prices))\n",
    "    print('#'+str(c+1), result)"
   ]
  },
  {
   "cell_type": "code",
   "execution_count": null,
   "metadata": {},
   "outputs": [],
   "source": [
    "test = int(input())\n",
    "for i in range(1,test+1):\n",
    "    case = int(input())\n",
    "    numbers = list(map(int, input().split( )))\n",
    "# input에서 최댓값을 찾는다\n",
    "    maximum = max(numbers)\n",
    "    maxindex = numbers.index(maximum)\n",
    "    profit = 0\n",
    "   # numbers의 길이가 1이상이면 반복\n",
    "    while len(numbers) >= 1:\n",
    "        buys = []\n",
    "# 최댓값이 리스트의 첫번째 항목이 아니면 이득 발생\n",
    "        if maxindex != 0:\n",
    "            for num in numbers[0:maxindex]:\n",
    "# 최댓값 왼쪽에 있는 수들의 리스트 생성\n",
    "                buys.append(num)\n",
    "# 이익 계산\n",
    "           for buy in buys:\n",
    "               profit += maximum - buy\n",
    "           numbers = numbers[maxindex+1:]\n",
    "           if len(numbers) == 0:\n",
    "               continue\n",
    "           else:\n",
    "               maximum = max(numbers)\n",
    "               maxindex = numbers.index(maximum)\n",
    "       else:\n",
    "           numbers = numbers[maxindex+1:]\n",
    "           if len(numbers) == 0:\n",
    "               continue\n",
    "           else:\n",
    "               maximum = max(numbers)\n",
    "               maxindex = numbers.index(maximum)\n",
    "   print(f'#{i} {profit}')"
   ]
  },
  {
   "cell_type": "code",
   "execution_count": 12,
   "metadata": {},
   "outputs": [
    {
     "name": "stdout",
     "output_type": "stream",
     "text": [
      "1\n",
      "5 2\n",
      "1 3 3 6 7\n",
      "8 13 9 12 8\n",
      "4 16 11 12 6\n",
      "2 4 1 23 2\n",
      "9 13 4 7 3\n",
      "[[4, 6, 9, 13], [21, 22, 21, 20], [20, 27, 23, 18], [6, 5, 24, 25], [22, 17, 11, 10]]\n",
      "49\n"
     ]
    }
   ],
   "source": [
    "TC=int(input())\n",
    "for tc in range(TC):\n",
    "    NM=[int(nm) for nm in input().split()]\n",
    "    N = NM[0]\n",
    "    M = NM[1]\n",
    "    rows = []\n",
    "    results=[]\n",
    "    for n in range(N):\n",
    "        row =[int(num) for num in input().split()]\n",
    "        rows.append(row)\n",
    "    for i in range(N-M+1):\n",
    "        result=0\n",
    "        for j in range(M):\n",
    "            for k in range(M):\n",
    "                result+=rows[i+j][i+k]\n",
    "        results.append(result)\n",
    "    print('#'+str(tc+1), max(results))\n",
    "        "
   ]
  },
  {
   "cell_type": "code",
   "execution_count": 3,
   "metadata": {},
   "outputs": [
    {
     "data": {
      "text/plain": [
       "0"
      ]
     },
     "execution_count": 3,
     "metadata": {},
     "output_type": "execute_result"
    }
   ],
   "source": [
    "1\n",
    "5 2\n",
    "1 3 3 6 7\n",
    "8 13 9 12 8\n",
    "4 16 11 12 6\n",
    "2 4 1 23 2\n",
    "9 13 4 7 3"
   ]
  },
  {
   "cell_type": "code",
   "execution_count": 4,
   "metadata": {},
   "outputs": [
    {
     "name": "stdout",
     "output_type": "stream",
     "text": [
      "[1, 3, 3]\n",
      "[8, 13, 9]\n",
      "[4, 16, 11]\n",
      "[2, 4, 1]\n",
      "[9, 13, 4]\n"
     ]
    }
   ],
   "source": [
    "row_list=[[1, 3, 3, 6, 7], [8, 13, 9, 12, 8], [4, 16, 11, 12, 6], [2, 4, 1, 23, 2], [9, 13, 4, 7, 3]]\n",
    "for row in row_list:\n",
    "    print(row[0:3])"
   ]
  },
  {
   "cell_type": "code",
   "execution_count": 10,
   "metadata": {},
   "outputs": [
    {
     "name": "stdout",
     "output_type": "stream",
     "text": [
      "49\n"
     ]
    }
   ],
   "source": [
    "row_sum = [[4, 6, 9, 13], [21, 22, 21, 20], [20, 27, 23, 18], [6, 5, 24, 25], [22, 17, 11, 10]]\n",
    "result=[]\n",
    "for i in range(N-M+1):\n",
    "    for j in range(N-M+1):\n",
    "        result.append(row_sum[i][j]+row_sum[i+1][j])\n",
    "print(max(result))"
   ]
  },
  {
   "cell_type": "code",
   "execution_count": 26,
   "metadata": {},
   "outputs": [
    {
     "name": "stdout",
     "output_type": "stream",
     "text": [
      "1\n",
      "3\n",
      "#1\n",
      "A 10\n",
      "B 7\n",
      "C 5\n",
      "AAAAAAAAAABBBBBBBCCCCC\n",
      "AAAAAAAAAA\n",
      "BBBBBBBCCC\n",
      "CC\n"
     ]
    }
   ],
   "source": [
    "for t in range(int(input())):\n",
    "    N=int(input())\n",
    "    char=[]\n",
    "    nums=[]\n",
    "    print('#'+str(t+1))\n",
    "    for i in range(N):\n",
    "        user_input = input().split()\n",
    "        char.append(user_input[0])\n",
    "        nums.append(int(user_input[1]))\n",
    "        string=''\n",
    "    for i in range(N):\n",
    "        string+=char[i]*nums[i]\n",
    "    print(string)\n",
    "    char_num = sum(nums)//10\n",
    "    for i in range(char_num):\n",
    "        print(string[0:10])\n",
    "        string=string[10:]\n",
    "    print(string)"
   ]
  },
  {
   "cell_type": "code",
   "execution_count": null,
   "metadata": {},
   "outputs": [],
   "source": [
    "1\n",
    "5 2\n",
    "1 3 3 6 7\n",
    "8 13 9 12 8\n",
    "4 16 11 12 6\n",
    "2 4 1 23 2\n",
    "9 13 4 7 3"
   ]
  },
  {
   "cell_type": "code",
   "execution_count": 18,
   "metadata": {},
   "outputs": [
    {
     "data": {
      "text/plain": [
       "'AAAAAAAAA'"
      ]
     },
     "execution_count": 18,
     "metadata": {},
     "output_type": "execute_result"
    }
   ],
   "source": [
    "'A'*9"
   ]
  },
  {
   "cell_type": "code",
   "execution_count": null,
   "metadata": {},
   "outputs": [],
   "source": []
  }
 ],
 "metadata": {
  "kernelspec": {
   "display_name": "Python 3",
   "language": "python",
   "name": "python3"
  },
  "language_info": {
   "codemirror_mode": {
    "name": "ipython",
    "version": 3
   },
   "file_extension": ".py",
   "mimetype": "text/x-python",
   "name": "python",
   "nbconvert_exporter": "python",
   "pygments_lexer": "ipython3",
   "version": "3.7.3"
  }
 },
 "nbformat": 4,
 "nbformat_minor": 2
}
