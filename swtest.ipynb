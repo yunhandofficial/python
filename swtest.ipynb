{
 "cells": [
  {
   "cell_type": "code",
   "execution_count": 40,
   "metadata": {},
   "outputs": [
    {
     "name": "stdout",
     "output_type": "stream",
     "text": [
      "3 5\n"
     ]
    }
   ],
   "source": [
    "user_input = 'CE'\n",
    "\n",
    "all_char = 'ABCDEFGHIJKLMNOPQRSTUVWXYZ'\n",
    "num_list={}\n",
    "for i, char in enumerate(all_char):\n",
    "    num_list[char] = str(i+1)\n",
    "    \n",
    "done = []\n",
    "for key, val in num_list.items():\n",
    "    for i in user_input:\n",
    "        if i in key:\n",
    "            done.append(val)\n",
    "output =\" \".join(done)\n",
    "            \n",
    "         \n",
    "\n",
    "print(output)"
   ]
  },
  {
   "cell_type": "code",
   "execution_count": 33,
   "metadata": {},
   "outputs": [
    {
     "name": "stdout",
     "output_type": "stream",
     "text": [
      "1 2 3 4 5 6 7 8 9 10 11 12 13 14 15 16 17 18 19 20 21 22 23 24 25 26\n"
     ]
    }
   ],
   "source": [
    "all_alpha ='ABCDEFGHIJKLMNOPQRSTUVWXYZ'\n",
    "num_list=[]\n",
    "for i in user_input:\n",
    "    num_list.append(str(ord(i)-64))\n",
    "done=\" \".join(num_list)\n",
    "print(done)"
   ]
  },
  {
   "cell_type": "code",
   "execution_count": 2,
   "metadata": {},
   "outputs": [
    {
     "data": {
      "text/plain": [
       "['123', '100']"
      ]
     },
     "execution_count": 2,
     "metadata": {},
     "output_type": "execute_result"
    }
   ],
   "source": [
    "user_input = \"123 100\"\n",
    "\n",
    "user_input.split()"
   ]
  },
  {
   "cell_type": "code",
   "execution_count": null,
   "metadata": {},
   "outputs": [],
   "source": [
    "test_case = int(input()) # 3\n",
    "\n",
    "for case_number in range(test_case):\n",
    "    user_input = [int(num) for num in input().split()]\n",
    "    a=user_input[0]//user_input[1]\n",
    "    b=user_input[0]%user_input[1]\n",
    "    print('#'i,' ', a, b)"
   ]
  },
  {
   "cell_type": "code",
   "execution_count": 10,
   "metadata": {},
   "outputs": [
    {
     "name": "stdout",
     "output_type": "stream",
     "text": [
      "10\n",
      "1 2 5 10\n"
     ]
    }
   ],
   "source": [
    "user_input = int(input())\n",
    "division=[]\n",
    "for i in range(1,user_input+1):\n",
    "    if user_input%i ==0:\n",
    "        division.append(str(i))\n",
    "        \n",
    "\n",
    "a=' '.join(division)\n",
    "print(a)"
   ]
  },
  {
   "cell_type": "code",
   "execution_count": null,
   "metadata": {},
   "outputs": [],
   "source": [
    "user_input = int(input())\n",
    "for order in range(user_input):\n",
    "    ten = [int(num) for num in input().split()]\n",
    "    print('#'+str(order), max(ten))"
   ]
  },
  {
   "cell_type": "code",
   "execution_count": null,
   "metadata": {},
   "outputs": [],
   "source": [
    "user_input= int(input())\n",
    "for i in range(user_input):\n",
    "    two_num = [num for num in input().split()]\n",
    "    a = two_num[0]\n",
    "    b = two_num[1]\n",
    "    if a>b:\n",
    "        print('#'+str(i+1),'>')\n",
    "    elif a=b:\n",
    "        print('#'+str(i+1),'=')\n",
    "    else:\n",
    "        print('#'+str(i+1),'<')"
   ]
  },
  {
   "cell_type": "code",
   "execution_count": null,
   "metadata": {},
   "outputs": [],
   "source": [
    "N=int(input())\n",
    "for i in range(N):\n",
    "    num_list = [num for num in input().split()]\n",
    "    print(num_list[N//2+2])\n",
    "    "
   ]
  }
 ],
 "metadata": {
  "kernelspec": {
   "display_name": "Python 3",
   "language": "python",
   "name": "python3"
  },
  "language_info": {
   "codemirror_mode": {
    "name": "ipython",
    "version": 3
   },
   "file_extension": ".py",
   "mimetype": "text/x-python",
   "name": "python",
   "nbconvert_exporter": "python",
   "pygments_lexer": "ipython3",
   "version": "3.7.3"
  }
 },
 "nbformat": 4,
 "nbformat_minor": 2
}
